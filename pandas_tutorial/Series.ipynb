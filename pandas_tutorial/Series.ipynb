{
 "cells": [
  {
   "cell_type": "code",
   "execution_count": 8,
   "id": "37691364",
   "metadata": {},
   "outputs": [],
   "source": [
    "import pandas as pd\n",
    "import numpy as np\n"
   ]
  },
  {
   "cell_type": "code",
   "execution_count": 10,
   "id": "9a7e8224",
   "metadata": {},
   "outputs": [
    {
     "data": {
      "text/plain": [
       "0     5\n",
       "1     9\n",
       "2    12\n",
       "3    27\n",
       "dtype: int64"
      ]
     },
     "execution_count": 10,
     "metadata": {},
     "output_type": "execute_result"
    }
   ],
   "source": [
    "my_series = [5, 9, 12, 27]\n",
    "my_var = pd.Series(my_series)\n",
    "my_var"
   ]
  },
  {
   "cell_type": "code",
   "execution_count": 5,
   "id": "260d5edd",
   "metadata": {},
   "outputs": [
    {
     "data": {
      "text/plain": [
       "12"
      ]
     },
     "execution_count": 5,
     "metadata": {},
     "output_type": "execute_result"
    }
   ],
   "source": [
    "my_var[2]"
   ]
  },
  {
   "cell_type": "code",
   "execution_count": 6,
   "id": "63854745",
   "metadata": {},
   "outputs": [
    {
     "data": {
      "text/plain": [
       "A     5\n",
       "B     9\n",
       "C    12\n",
       "D    27\n",
       "dtype: int64"
      ]
     },
     "execution_count": 6,
     "metadata": {},
     "output_type": "execute_result"
    }
   ],
   "source": [
    "my_index = [\"A\", \"B\", \"C\", \"D\"]\n",
    "my_var2 = pd.Series(data=[5, 9, 12, 27], index=my_index)\n",
    "my_var2"
   ]
  },
  {
   "cell_type": "code",
   "execution_count": 7,
   "id": "b0fbb393",
   "metadata": {},
   "outputs": [
    {
     "data": {
      "text/plain": [
       "Telsa       12\n",
       "Mercedes    42\n",
       "BMW          3\n",
       "dtype: int64"
      ]
     },
     "execution_count": 7,
     "metadata": {},
     "output_type": "execute_result"
    }
   ],
   "source": [
    "cards = {\n",
    "    \"Telsa\": 12,\n",
    "    \"Mercedes\": 42,\n",
    "    \"BMW\": 3\n",
    "}\n",
    "my_var3 = pd.Series(cards)\n",
    "my_var3"
   ]
  },
  {
   "cell_type": "code",
   "execution_count": 11,
   "id": "ea648c17",
   "metadata": {},
   "outputs": [
    {
     "data": {
      "text/plain": [
       "12"
      ]
     },
     "execution_count": 11,
     "metadata": {},
     "output_type": "execute_result"
    }
   ],
   "source": [
    "my_var3[\"Telsa\"]"
   ]
  }
 ],
 "metadata": {
  "kernelspec": {
   "display_name": "Python 3 (ipykernel)",
   "language": "python",
   "name": "python3"
  },
  "language_info": {
   "codemirror_mode": {
    "name": "ipython",
    "version": 3
   },
   "file_extension": ".py",
   "mimetype": "text/x-python",
   "name": "python",
   "nbconvert_exporter": "python",
   "pygments_lexer": "ipython3",
   "version": "3.10.9"
  }
 },
 "nbformat": 4,
 "nbformat_minor": 5
}
