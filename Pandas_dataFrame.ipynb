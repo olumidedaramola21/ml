{
  "nbformat": 4,
  "nbformat_minor": 0,
  "metadata": {
    "colab": {
      "provenance": [],
      "authorship_tag": "ABX9TyMVhSdrpJ3rvUETv5vEtpV/",
      "include_colab_link": true
    },
    "kernelspec": {
      "name": "python3",
      "display_name": "Python 3"
    },
    "language_info": {
      "name": "python"
    }
  },
  "cells": [
    {
      "cell_type": "markdown",
      "metadata": {
        "id": "view-in-github",
        "colab_type": "text"
      },
      "source": [
        "<a href=\"https://colab.research.google.com/github/olumidedaramola21/PyTorch-Odyssey/blob/main/Pandas_dataFrame.ipynb\" target=\"_parent\"><img src=\"https://colab.research.google.com/assets/colab-badge.svg\" alt=\"Open In Colab\"/></a>"
      ]
    },
    {
      "cell_type": "code",
      "execution_count": 1,
      "metadata": {
        "id": "cK-KfBH18yUg"
      },
      "outputs": [],
      "source": [
        "import numpy as np\n",
        "import pandas as pd"
      ]
    },
    {
      "cell_type": "code",
      "source": [
        "# Create and populate a 5x2 Numpy array.\n",
        "my_data = np.array([[0, 3], [10, 7], [20, 9], [30, 14], [40, 15]])\n",
        "# Create a python list that will hold the name of the two columns\n",
        "my_column_names = ['temperature', 'activity']\n",
        "# Create a DataFrame\n",
        "my_dataframe = pd.DataFrame(data =my_data, columns=my_column_names )\n",
        "# Creating a new column\n",
        "my_dataframe[\"adjusted\"] = my_dataframe[\"activity\"]\n",
        "print(my_dataframe)"
      ],
      "metadata": {
        "colab": {
          "base_uri": "https://localhost:8080/"
        },
        "id": "YAFz4Qw696YH",
        "outputId": "a3915d01-c18d-4d98-f977-b58d1c7807e6"
      },
      "execution_count": 4,
      "outputs": [
        {
          "output_type": "stream",
          "name": "stdout",
          "text": [
            "   temperature  activity  adjusted\n",
            "0            0         3         3\n",
            "1           10         7         7\n",
            "2           20         9         9\n",
            "3           30        14        14\n",
            "4           40        15        15\n"
          ]
        }
      ]
    },
    {
      "cell_type": "code",
      "source": [
        "print(my_dataframe['temperature'])\n",
        "print(my_dataframe[1:4])\n",
        "print(my_dataframe.iloc[2])\n",
        "print(my_dataframe.head(3))"
      ],
      "metadata": {
        "colab": {
          "base_uri": "https://localhost:8080/"
        },
        "id": "keB7-SOlEe_Q",
        "outputId": "be2641b8-d511-4f4f-89d1-ca898c5a90a3"
      },
      "execution_count": 9,
      "outputs": [
        {
          "output_type": "stream",
          "name": "stdout",
          "text": [
            "0     0\n",
            "1    10\n",
            "2    20\n",
            "3    30\n",
            "4    40\n",
            "Name: temperature, dtype: int64\n",
            "   temperature  activity  adjusted\n",
            "1           10         7         7\n",
            "2           20         9         9\n",
            "3           30        14        14\n",
            "temperature    20\n",
            "activity        9\n",
            "adjusted        9\n",
            "Name: 2, dtype: int64\n",
            "   temperature  activity  adjusted\n",
            "0            0         3         3\n",
            "1           10         7         7\n",
            "2           20         9         9\n"
          ]
        }
      ]
    },
    {
      "cell_type": "code",
      "source": [
        "new_column_names = ['Eleanor', 'Chidi', 'Tahani', 'Jason']\n",
        "a_new_data = np.random.randint(low=0, high=101, size=(3, 4))\n",
        "new_dataframe = pd.DataFrame(data=a_new_data, columns=new_column_names)\n",
        "print(new_dataframe)\n",
        "print(new_dataframe['Eleanor'][0])\n",
        "new_dataframe['Janet'] = new_dataframe['Tahani'] + new_dataframe['Jason']"
      ],
      "metadata": {
        "colab": {
          "base_uri": "https://localhost:8080/"
        },
        "id": "qgzVCxyoFeja",
        "outputId": "0b35a4e3-15dd-4fc7-e3af-3de4245153ce"
      },
      "execution_count": 18,
      "outputs": [
        {
          "output_type": "stream",
          "name": "stdout",
          "text": [
            "   Eleanor  Chidi  Tahani  Jason\n",
            "0       12      6      52     42\n",
            "1       81     38      51      0\n",
            "2        2     84      22      2\n",
            "12\n"
          ]
        }
      ]
    },
    {
      "cell_type": "code",
      "source": [
        "# Create a reference by assigning my_dataframe to a new varaible."
      ],
      "metadata": {
        "id": "iZhD1oa9HxyB"
      },
      "execution_count": null,
      "outputs": []
    }
  ]
}